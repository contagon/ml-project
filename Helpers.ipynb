{
 "cells": [
  {
   "cell_type": "code",
   "execution_count": 2,
   "metadata": {},
   "outputs": [],
   "source": [
    "import matplotlib.pyplot as plt\n",
    "from scipy import sparse\n",
    "import numpy as np\n",
    "import pickle"
   ]
  },
  {
   "cell_type": "code",
   "execution_count": 4,
   "metadata": {},
   "outputs": [],
   "source": [
    "#load everything\n",
    "num_ing = 8023\n",
    "recipe_decoder = pickle.load( open('data-cleaned/recipe_decoder.pkl', 'rb') )\n",
    "ingr_decoder = pickle.load( open('data-cleaned/ingredient_decoder.pkl', 'rb') )\n",
    "tag_decoder = pickle.load( open('data-cleaned/tag_decoder.pkl', 'rb') )\n",
    "X = sparse.load_npz(\"data-cleaned/recipes.npz\")\n",
    "Xhat = sparse.load_npz(\"data-cleaned/recipes_tfidf.npz\")\n",
    "U = sparse.load_npz(\"data-cleaned/user_train.npz\")\n",
    "Uhat = sparse.load_npz(\"data-cleaned/user_train_tfidf.npz\")\n",
    "\n",
    "def intersection(lst1, lst2): \n",
    "    return list(set(lst1) & set(lst2)) "
   ]
  },
  {
   "cell_type": "code",
   "execution_count": 3,
   "metadata": {},
   "outputs": [],
   "source": [
    "def recipe_info(i):\n",
    "    #extract info\n",
    "    calories = X[i, -1]\n",
    "    idx = X[i].nonzero()[1]\n",
    "    ingredients = [ingr_decoder[j] for j in idx[idx < num_ing]]\n",
    "    tags = [tag_decoder[j] for j in idx[idx > num_ing][:-1] - num_ing]\n",
    "    name = recipe_decoder[i]\n",
    "    \n",
    "    #print\n",
    "    print(f\"Recipe: {name}\")\n",
    "    print(f\"Calorie Level: {calories}\")\n",
    "    print(f\"Ingredients: {ingredients}\")\n",
    "    print(f\"Tags: {tags}\")"
   ]
  },
  {
   "cell_type": "code",
   "execution_count": 4,
   "metadata": {},
   "outputs": [],
   "source": [
    "def recipe_comp(i, j):\n",
    "    #extract info\n",
    "    cali = X[i, -1]\n",
    "    idxi = X[i].nonzero()[1]\n",
    "    ingi = [ingr_decoder[k] for k in idxi[idxi < num_ing]]\n",
    "    tagsi = [tag_decoder[k] for k in idxi[idxi > num_ing][:-1] - num_ing]\n",
    "    namei = recipe_decoder[i]\n",
    "    \n",
    "    calj = X[j, -1]\n",
    "    idxj = X[j].nonzero()[1]\n",
    "    ingj = [ingr_decoder[k] for k in idxj[idxj < num_ing]]\n",
    "    tagsj = [tag_decoder[k] for k in idxj[idxj > num_ing][:-1] - num_ing]\n",
    "    namej = recipe_decoder[j]\n",
    "    \n",
    "    #print\n",
    "    print(f\"Recipe: {namei}, {namej}\")\n",
    "    print(f\"Difference Calorie Level: {cali-calj}\")\n",
    "    print(f\"Shared Ingredients: {intersection(ingi, ingj)}\")\n",
    "    print(f\"Tags: {intersection(tagsi, tagsj)}\")"
   ]
  },
  {
   "cell_type": "code",
   "execution_count": 1,
   "metadata": {},
   "outputs": [],
   "source": [
    "def recipe_score(i, j):\n",
    "    #set things up \n",
    "    score = np.zeros_like(i)\n",
    "    \n",
    "    #iterate through all values\n",
    "    for num, (k, l) in enumerate(zip(i, j)):\n",
    "        xk = X[k, :-1].nonzero()[1]\n",
    "        xl = X[l, :-1].nonzero()[1]\n",
    "        #add all identical tags and if calories are the same (don't double count calories)\n",
    "        score[num] = len(intersection(xk, xl)) + int(X[k,-1]==X[l,-1])\n",
    "        \n",
    "    return score"
   ]
  },
  {
   "cell_type": "code",
   "execution_count": null,
   "metadata": {},
   "outputs": [],
   "source": []
  }
 ],
 "metadata": {
  "kernelspec": {
   "display_name": "Python 3",
   "language": "python",
   "name": "python3"
  },
  "language_info": {
   "codemirror_mode": {
    "name": "ipython",
    "version": 3
   },
   "file_extension": ".py",
   "mimetype": "text/x-python",
   "name": "python",
   "nbconvert_exporter": "python",
   "pygments_lexer": "ipython3",
   "version": "3.7.4"
  }
 },
 "nbformat": 4,
 "nbformat_minor": 4
}
