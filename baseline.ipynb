{
 "cells": [
  {
   "cell_type": "code",
   "execution_count": 18,
   "metadata": {},
   "outputs": [],
   "source": [
    "import numpy as np\n",
    "from sklearn.pipeline import Pipeline\n",
    "from sklearn.decomposition import PCA, TruncatedSVD\n",
    "from sklearn.neighbors import NearestNeighbors\n",
    "from sklearn.model_selection import ShuffleSplit, KFold\n",
    "import matplotlib.pyplot as plt\n",
    "from scipy import sparse\n",
    "from itertools import product\n",
    "from time import time\n",
    "import seaborn\n",
    "\n",
    "from baseUtils import *\n",
    "\n",
    "X     = sparse.load_npz(\"data-cleaned/recipes.npz\")\n",
    "Xhat  = sparse.load_npz(\"data-cleaned/recipes_tfidf.npz\")\n",
    "U     = sparse.load_npz(\"data-cleaned/user_train.npz\")\n",
    "Uhat  = sparse.load_npz(\"data-cleaned/user_train_tfidf.npz\")\n",
    "Utest = sparse.load_npz(\"data-cleaned/user_test.npz\")"
   ]
  },
  {
   "cell_type": "code",
   "execution_count": 20,
   "metadata": {},
   "outputs": [],
   "source": [
    "user_test = Utest[:,-1].toarray().flatten().astype('int')\n",
    "user_test_idx = np.arange(0, Utest.shape[0])\n",
    "all_recipes = np.arange(0, U.shape[1])\n",
    "#get liked recipes\n",
    "y = np.zeros((user_test.shape[0], 2), dtype='int')-1\n",
    "for i in range(len(y)):\n",
    "    recipes = Utest[i].nonzero()[1][:-1]\n",
    "    if len(recipes) == 1:\n",
    "        y[i,0] = recipes\n",
    "    elif len(recipes) == 2:\n",
    "        y[i,:] = recipes\n",
    "    else:\n",
    "        raise ValueError(\"Someone reviewed 3 recipes!\")\n",
    "\n",
    "#get 5 most popular recipes\n",
    "recipes = np.array(np.sum(U, axis=0)).flatten()\n",
    "rrecipes = np.argpartition(recipes, -5)[-5:]\n",
    "recommended_recipes = rrecipes.copy()\n",
    "for i in range(len(user_test_idx)-1):\n",
    "    recommended_recipes = np.vstack((rrecipes, recommended_recipes))"
   ]
  },
  {
   "cell_type": "code",
   "execution_count": 19,
   "metadata": {},
   "outputs": [
    {
     "name": "stdout",
     "output_type": "stream",
     "text": "Average Score is 9.58416306180805 (using int)\nAverage Score is -42.51562431263289 (using com)\n"
    }
   ],
   "source": [
    "\n",
    "#check if we got the recipe they liked\n",
    "scores = recommend_scoring(y, recommended_recipes, sc='int')\n",
    "print(f\"Average Score is {scores.mean()} (using int)\")\n",
    "\n",
    "scores = recommend_scoring(y, recommended_recipes, sc='com')\n",
    "print(f\"Average Score is {scores.mean()} (using com)\")"
   ]
  },
  {
   "cell_type": "code",
   "execution_count": 21,
   "metadata": {},
   "outputs": [
    {
     "name": "stdout",
     "output_type": "stream",
     "text": "Average Score is 7.66666177872278 (using int)\nAverage Score is -39.12075665371361 (using com)\n"
    }
   ],
   "source": [
    "#check if we got the recipe they liked   \n",
    "random = np.random.choice(all_recipes, size=(y.shape[0], 5))\n",
    "\n",
    "scores = recommend_scoring(y, random, sc='int')\n",
    "print(f\"Average Score is {scores.mean()} (using int)\")\n",
    "\n",
    "scores = recommend_scoring(y, random, sc='com')\n",
    "print(f\"Average Score is {scores.mean()} (using com)\")"
   ]
  },
  {
   "cell_type": "code",
   "execution_count": null,
   "metadata": {},
   "outputs": [],
   "source": []
  }
 ],
 "metadata": {
  "kernelspec": {
   "display_name": "Python 3",
   "language": "python",
   "name": "python3"
  },
  "language_info": {
   "codemirror_mode": {
    "name": "ipython",
    "version": 3
   },
   "file_extension": ".py",
   "mimetype": "text/x-python",
   "name": "python",
   "nbconvert_exporter": "python",
   "pygments_lexer": "ipython3",
   "version": "3.7.4-final"
  }
 },
 "nbformat": 4,
 "nbformat_minor": 4
}