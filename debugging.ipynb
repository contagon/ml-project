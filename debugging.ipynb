{
 "cells": [
  {
   "cell_type": "code",
   "execution_count": 4,
   "metadata": {},
   "outputs": [],
   "source": [
    "import numpy as np\n",
    "from sklearn.pipeline import Pipeline\n",
    "from sklearn.decomposition import PCA, TruncatedSVD\n",
    "from sklearn.neighbors import NearestNeighbors\n",
    "from sklearn.model_selection import ShuffleSplit, KFold, train_test_split\n",
    "import matplotlib.pyplot as plt\n",
    "from scipy import sparse\n",
    "from itertools import product\n",
    "from time import time\n",
    "import seaborn\n",
    "%run Helpers.ipynb"
   ]
  },
  {
   "cell_type": "code",
   "execution_count": 52,
   "metadata": {},
   "outputs": [],
   "source": [
    "def recipe_comp(i, j):\n",
    "    #extract info\n",
    "    cali = X[i, -1]\n",
    "    idxi = X[i, :-1].nonzero()[1]\n",
    "    ingi = [ingr_decoder[k] for k in idxi[idxi < num_ing]]\n",
    "    tagsi = [tag_decoder[k] for k in idxi[idxi > num_ing] - num_ing]\n",
    "    namei = recipe_decoder[i]\n",
    "    \n",
    "    calj = X[j, -1]\n",
    "    idxj = X[j, :-1].nonzero()[1]\n",
    "    ingj = [ingr_decoder[k] for k in idxj[idxj < num_ing]]\n",
    "    tagsj = [tag_decoder[k] for k in idxj[idxj > num_ing] - num_ing]\n",
    "    namej = recipe_decoder[j]\n",
    "    \n",
    "    #print\n",
    "    print(f\"Recipe: {namei}, {namej}\")\n",
    "    print(f\"Difference Calorie Level: {cali, calj}\")\n",
    "    print(f\"Shared Ingredients: {len(intersection(ingi, ingj))}\")\n",
    "    print(f\"Tags: {len(intersection(tagsi, tagsj))}\")"
   ]
  },
  {
   "cell_type": "code",
   "execution_count": 54,
   "metadata": {},
   "outputs": [],
   "source": [
    "def recipe_score(i, j):\n",
    "    #set things up \n",
    "    score = np.zeros_like(i)\n",
    "    \n",
    "    #just do the single one if they're scalars\n",
    "    if np.isscalar(i):\n",
    "        xi = X[i, :-1].nonzero()[1]\n",
    "        xj = X[j, :-1].nonzero()[1]\n",
    "        #add all identical tags and if calories are the same (don't double count calories)\n",
    "        return len(intersection(xi, xj)) + int(X[i,-1]==X[j,-1])\n",
    "        \n",
    "    #otherwise iterate through all values\n",
    "    for num, (k, l) in enumerate(zip(i, j)):\n",
    "        xk = X[k, :-1].nonzero()[1]\n",
    "        xl = X[l, :-1].nonzero()[1]\n",
    "        #add all identical tags and if calories are the same (don't double count calories)\n",
    "        score[num] = len(intersection(xk, xl)) + int(X[k,-1]==X[l,-1])\n",
    "        \n",
    "    return score"
   ]
  },
  {
   "cell_type": "code",
   "execution_count": 7,
   "metadata": {
    "jupyter": {
     "source_hidden": true
    }
   },
   "outputs": [],
   "source": [
    "rs = ShuffleSplit(1, .2)\n",
    "\n",
    "for train, test in rs.split(Xhat):\n",
    "    #make pca\n",
    "    pca = TruncatedSVD(n_components=30).fit(Xhat[train])\n",
    "    #make and train neighbors\n",
    "    nn  = NearestNeighbors(metric='cosine', algorithm='brute').fit(pca.transform(Xhat[train]))\n",
    "    start = time()\n",
    "    neighbors = nn.kneighbors(pca.transform(Xhat[test]), 1)"
   ]
  },
  {
   "cell_type": "code",
   "execution_count": 55,
   "metadata": {},
   "outputs": [
    {
     "name": "stdout",
     "output_type": "stream",
     "text": [
      "4\n",
      "Recipe: pork chop or chicken  n  potato bake, double chocolate waffles\n",
      "Difference Calorie Level: (2.0, 0.0)\n",
      "Shared Ingredients: 1\n",
      "Tags: 3\n"
     ]
    }
   ],
   "source": [
    "i = 15\n",
    "print(recipe_score(test[i], neighbors[1][i][0]))\n",
    "recipe_comp(test[i], neighbors[1][i][0])"
   ]
  },
  {
   "cell_type": "code",
   "execution_count": null,
   "metadata": {},
   "outputs": [],
   "source": []
  }
 ],
 "metadata": {
  "kernelspec": {
   "display_name": "Python 3",
   "language": "python",
   "name": "python3"
  },
  "language_info": {
   "codemirror_mode": {
    "name": "ipython",
    "version": 3
   },
   "file_extension": ".py",
   "mimetype": "text/x-python",
   "name": "python",
   "nbconvert_exporter": "python",
   "pygments_lexer": "ipython3",
   "version": "3.7.4"
  }
 },
 "nbformat": 4,
 "nbformat_minor": 4
}
