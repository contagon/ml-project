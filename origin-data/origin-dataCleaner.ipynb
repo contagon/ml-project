{
 "cells": [
  {
   "cell_type": "code",
   "execution_count": 5,
   "metadata": {},
   "outputs": [],
   "source": [
    "import numpy as np\n",
    "import csv\n",
    "from scipy import sparse\n",
    "import pickle"
   ]
  },
  {
   "cell_type": "code",
   "execution_count": 3,
   "metadata": {},
   "outputs": [],
   "source": [
    "loc = set()\n",
    "ingredients = set()\n",
    "#make set of all ingredients\n",
    "n = 0\n",
    "with open(\"recipes.csv\", \"r\") as f:\n",
    "    reader = csv.reader(f, delimiter=\",\")\n",
    "    for i, line in enumerate(reader):\n",
    "        ingredients.update(line[1:])\n",
    "        loc.update([line[0]])\n",
    "        n += 1\n",
    "m = len(ingredients)\n",
    "ingredients = {w:i for i, w in enumerate(ingredients)}\n",
    "ing_decoder = {i:w for i, w in enumerate(ingredients)}\n",
    "location    = {w:i for i, w in enumerate(loc)}\n",
    "loc_decoder = {i:w for i, w in enumerate(loc)}\n",
    "\n",
    "recipe_index = []\n",
    "ingred_index = []\n",
    "location_index    = []\n",
    "with open(\"recipes.csv\", \"r\") as f:\n",
    "    reader = csv.reader(f, delimiter=\",\")\n",
    "    for i, line in enumerate(reader):\n",
    "        #make list of all ingredients in each recipe\n",
    "        location_index.append(location[line[0]])\n",
    "        for j in line[1:]:\n",
    "            recipe_index.append(i)\n",
    "            ingred_index.append(ingredients[j])\n",
    "\n",
    "counts = [1]*len(recipe_index)\n",
    "\n",
    "X = sparse.csr_matrix((counts, [recipe_index, ingred_index]),\n",
    "                           shape=(n, m), dtype=np.float)"
   ]
  },
  {
   "cell_type": "code",
   "execution_count": 4,
   "metadata": {},
   "outputs": [],
   "source": [
    "np.savez('data/data.npz', X=X.toarray(), y = np.array(location_index))\n",
    "pickle.dump(ing_decoder, open(\"ingredient_decoder.pkl\", \"wb\"))\n",
    "pickle.dump(loc_decoder, open(\"cuisine_decoder.pkl\", \"wb\"))"
   ]
  },
  {
   "cell_type": "code",
   "execution_count": null,
   "metadata": {},
   "outputs": [],
   "source": []
  }
 ],
 "metadata": {
  "kernelspec": {
   "display_name": "Python 3",
   "language": "python",
   "name": "python3"
  },
  "language_info": {
   "codemirror_mode": {
    "name": "ipython",
    "version": 3
   },
   "file_extension": ".py",
   "mimetype": "text/x-python",
   "name": "python",
   "nbconvert_exporter": "python",
   "pygments_lexer": "ipython3",
   "version": "3.7.4"
  }
 },
 "nbformat": 4,
 "nbformat_minor": 4
}
