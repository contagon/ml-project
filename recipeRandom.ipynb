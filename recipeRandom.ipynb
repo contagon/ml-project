{
 "cells": [
  {
   "cell_type": "code",
   "execution_count": 1,
   "metadata": {},
   "outputs": [],
   "source": [
    "import numpy as np\n",
    "from sklearn.pipeline import Pipeline\n",
    "from sklearn.decomposition import PCA, TruncatedSVD\n",
    "from sklearn.neighbors import NearestNeighbors\n",
    "from sklearn.model_selection import ShuffleSplit, KFold\n",
    "import matplotlib.pyplot as plt\n",
    "from scipy import sparse\n",
    "from itertools import product\n",
    "from time import time\n",
    "import seaborn\n",
    "\n",
    "from baseUtils import *\n",
    "X     = sparse.load_npz(\"data-cleaned/recipes.npz\")\n",
    "Xhat  = sparse.load_npz(\"data-cleaned/recipes_tfidf.npz\")\n",
    "U     = sparse.load_npz(\"data-cleaned/user_train.npz\")\n",
    "Uhat  = sparse.load_npz(\"data-cleaned/user_train_tfidf.npz\")\n",
    "Utest = sparse.load_npz(\"data-cleaned/user_test.npz\")"
   ]
  },
  {
   "cell_type": "code",
   "execution_count": 2,
   "metadata": {},
   "outputs": [
    {
     "name": "stdout",
     "output_type": "stream",
     "text": [
      "Highest possible: 79\n",
      "Average possible: 27.45369534120551\n"
     ]
    }
   ],
   "source": [
    "#check average/highest possible score\n",
    "possible = X.nonzero()\n",
    "num_rec = X.shape[0]\n",
    "total = np.array([len(X[i].nonzero()[0]) for i in range(num_rec)])\n",
    "                  \n",
    "print(f\"Highest possible: {max(total)}\")\n",
    "print(f\"Average possible: {total.mean()}\")"
   ]
  },
  {
   "cell_type": "code",
   "execution_count": 3,
   "metadata": {},
   "outputs": [
    {
     "name": "stdout",
     "output_type": "stream",
     "text": [
      "Std: 7.784848437224277\n"
     ]
    }
   ],
   "source": [
    "print(f\"Std: {total.std()}\")"
   ]
  },
  {
   "cell_type": "code",
   "execution_count": 4,
   "metadata": {},
   "outputs": [
    {
     "name": "stdout",
     "output_type": "stream",
     "text": [
      "Average random score: 7.194892996381792\n"
     ]
    }
   ],
   "source": [
    "cv = 7\n",
    "rs = KFold(n_splits=cv)\n",
    "\n",
    "scores = []\n",
    "for train_index, test_index in rs.split(X):\n",
    "    closest = np.random.choice(np.arange(X.shape[0]), size=(len(test_index),5))\n",
    "    #save score\n",
    "#     for rec, t in zip(closest, test_index):\n",
    "#         scores.append( recommendation_score(np.array([t]), rec) )\n",
    "    scores.append( recommend_scoring(test_index.reshape(-1,1), closest))\n",
    "\n",
    "print(f\"Average random score: {np.concatenate(scores).mean()}\")"
   ]
  },
  {
   "cell_type": "code",
   "execution_count": 5,
   "metadata": {},
   "outputs": [
    {
     "data": {
      "text/plain": [
       "(array([1.1700e+03, 2.5671e+04, 6.9870e+04, 4.9427e+04, 2.3334e+04,\n",
       "        7.4480e+03, 1.1350e+03, 1.8400e+02, 2.0000e+01, 6.0000e+00]),\n",
       " array([ 5. , 12.4, 19.8, 27.2, 34.6, 42. , 49.4, 56.8, 64.2, 71.6, 79. ]),\n",
       " <a list of 10 Patch objects>)"
      ]
     },
     "execution_count": 5,
     "metadata": {},
     "output_type": "execute_result"
    },
    {
     "data": {
      "image/png": "[encoded data removed]",
      "text/plain": [
       "<Figure size 432x288 with 1 Axes>"
      ]
     },
     "metadata": {
      "needs_background": "light"
     },
     "output_type": "display_data"
    }
   ],
   "source": [
    "plt.hist(total)"
   ]
  },
  {
   "cell_type": "code",
   "execution_count": null,
   "metadata": {},
   "outputs": [],
   "source": []
  }
 ],
 "metadata": {
  "kernelspec": {
   "display_name": "Python 3",
   "language": "python",
   "name": "python3"
  },
  "language_info": {
   "codemirror_mode": {
    "name": "ipython",
    "version": 3
   },
   "file_extension": ".py",
   "mimetype": "text/x-python",
   "name": "python",
   "nbconvert_exporter": "python",
   "pygments_lexer": "ipython3",
   "version": "3.7.4"
  }
 },
 "nbformat": 4,
 "nbformat_minor": 4
}
