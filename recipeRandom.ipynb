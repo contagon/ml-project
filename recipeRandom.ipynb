{
 "cells": [
  {
   "cell_type": "code",
   "execution_count": 1,
   "metadata": {},
   "outputs": [],
   "source": [
    "import numpy as np\n",
    "from sklearn.pipeline import Pipeline\n",
    "from sklearn.decomposition import PCA, TruncatedSVD\n",
    "from sklearn.neighbors import NearestNeighbors\n",
    "from sklearn.model_selection import ShuffleSplit, KFold\n",
    "import matplotlib.pyplot as plt\n",
    "from scipy import sparse\n",
    "from itertools import product\n",
    "from time import time\n",
    "import seaborn\n",
    "%run Helpers.ipynb"
   ]
  },
  {
   "cell_type": "code",
   "execution_count": 8,
   "metadata": {},
   "outputs": [
    {
     "name": "stdout",
     "output_type": "stream",
     "text": [
      "Highest possible: 79\n",
      "Average possible: 27.45369534120551\n"
     ]
    }
   ],
   "source": [
    "#check average/highest possible score\n",
    "possible = X.nonzero()\n",
    "num_rec = X.shape[0]\n",
    "total = np.array([len(X[i].nonzero()[0]) for i in range(num_rec)])\n",
    "                  \n",
    "print(f\"Highest possible: {max(total)}\")\n",
    "print(f\"Average possible: {total.mean()}\")"
   ]
  },
  {
   "cell_type": "code",
   "execution_count": 13,
   "metadata": {},
   "outputs": [
    {
     "name": "stdout",
     "output_type": "stream",
     "text": [
      "Average random score: 7.18197630149632\n"
     ]
    }
   ],
   "source": [
    "cv = 7\n",
    "rs = KFold(n_splits=cv)\n",
    "\n",
    "scores = []\n",
    "for train_index, test_index in rs.split(X):\n",
    "    closest = np.random.choice(train_index, size=len(test_index))\n",
    "    #save score\n",
    "    scores.append( recipe_score(test_index, closest).mean() )\n",
    "\n",
    "print(f\"Average random score: {np.array(scores).mean()}\")"
   ]
  },
  {
   "cell_type": "code",
   "execution_count": null,
   "metadata": {},
   "outputs": [],
   "source": []
  }
 ],
 "metadata": {
  "kernelspec": {
   "display_name": "Python 3",
   "language": "python",
   "name": "python3"
  },
  "language_info": {
   "codemirror_mode": {
    "name": "ipython",
    "version": 3
   },
   "file_extension": ".py",
   "mimetype": "text/x-python",
   "name": "python",
   "nbconvert_exporter": "python",
   "pygments_lexer": "ipython3",
   "version": "3.7.4"
  }
 },
 "nbformat": 4,
 "nbformat_minor": 4
}
