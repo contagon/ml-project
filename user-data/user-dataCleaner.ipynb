{
 "cells": [
  {
   "cell_type": "code",
   "execution_count": 31,
   "metadata": {},
   "outputs": [],
   "source": [
    "import numpy as np\n",
    "import csv\n",
    "from scipy import sparse\n",
    "import pickle\n",
    "import pandas as pd\n",
    "import json"
   ]
  },
  {
   "cell_type": "code",
   "execution_count": null,
   "metadata": {},
   "outputs": [],
   "source": [
    "pip install kaggle\n",
    "export KAGGLE_USERNAME=eastonpotokar\n",
    "export KAGGLE_KEY=1bfd140356aae8ffd62b234617295b77\n",
    "kaggle datasets download -d shuyangli94/food-com-recipes-and-user-interactions"
   ]
  },
  {
   "cell_type": "code",
   "execution_count": 4,
   "metadata": {},
   "outputs": [],
   "source": [
    "#save map from ingredients id to ingredients\n",
    "maps = pickle.load( open('ingr_map.pkl', 'rb') )\n",
    "ing_decoder = {i['id']: i['replaced'] for index, i in maps.iterrows()}\n",
    "pickle.dump(ing_decoder, open(\"ingredient_decoder.pkl\", \"wb\"))"
   ]
  },
  {
   "cell_type": "code",
   "execution_count": 45,
   "metadata": {},
   "outputs": [],
   "source": [
    "#we put recipes into similar format as our dataset\n",
    "recipes = pd.read_csv('PP_recipes.csv')\n",
    "\n",
    "m = max(ing_decoder.keys()) + 1\n",
    "n = len(recipes)\n",
    "\n",
    "recipe_index = []\n",
    "ingred_index = []\n",
    "for index, recipe in recipes.iterrows():\n",
    "    for i in json.loads(recipe['ingredient_ids']):\n",
    "        recipe_index.append(index)\n",
    "        ingred_index.append(i)\n",
    "        \n",
    "counts = [1]*len(recipe_index)\n",
    "\n",
    "recipe_index += list(recipes.index)\n",
    "ingred_index += [m-1]*len(list(recipes.index))\n",
    "counts += list(recipes[\"calorie_level\"])\n",
    "\n",
    "X = sparse.csr_matrix((counts, [recipe_index, ingred_index]), shape=(n, m), dtype=np.float)\n",
    "\n",
    "sparse.save_npz('recipes.npz', X)"
   ]
  },
  {
   "cell_type": "code",
   "execution_count": null,
   "metadata": {},
   "outputs": [],
   "source": []
  }
 ],
 "metadata": {
  "kernelspec": {
   "display_name": "Python 3",
   "language": "python",
   "name": "python3"
  },
  "language_info": {
   "codemirror_mode": {
    "name": "ipython",
    "version": 3
   },
   "file_extension": ".py",
   "mimetype": "text/x-python",
   "name": "python",
   "nbconvert_exporter": "python",
   "pygments_lexer": "ipython3",
   "version": "3.7.4"
  }
 },
 "nbformat": 4,
 "nbformat_minor": 4
}
