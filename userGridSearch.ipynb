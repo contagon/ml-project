{
 "nbformat": 4,
 "nbformat_minor": 2,
 "metadata": {
  "language_info": {
   "name": "python",
   "codemirror_mode": {
    "name": "ipython",
    "version": 3
   },
   "version": "3.7.4-final"
  },
  "orig_nbformat": 2,
  "file_extension": ".py",
  "mimetype": "text/x-python",
  "name": "python",
  "npconvert_exporter": "python",
  "pygments_lexer": "ipython3",
  "version": 3,
  "kernelspec": {
   "name": "python37464bitbaseconda5e2907d64a5a434bb6b8d7e76696ae4e",
   "display_name": "Python 3.7.4 64-bit ('base': conda)"
  }
 },
 "cells": [
  {
   "cell_type": "code",
   "execution_count": 1,
   "metadata": {},
   "outputs": [],
   "source": [
    "import numpy as np\n",
    "import matplotlib.pyplot as plt\n",
    "from scipy import sparse\n",
    "import seaborn as sns\n",
    "import pickle\n",
    "from collections import Counter\n",
    "\n",
    "from sklearn.metrics import make_scorer\n",
    "from sklearn.decomposition import TruncatedSVD, NMF, SparsePCA, KernelPCA, LatentDirichletAllocation\n",
    "from sklearn.neighbors import NearestNeighbors\n",
    "from sklearn.model_selection import GridSearchCV\n",
    "from sklearn.base import BaseEstimator\n",
    "\n",
    "from hypopt import GridSearch\n",
    "from sklearn.pipeline import Pipeline"
   ]
  },
  {
   "cell_type": "code",
   "execution_count": 2,
   "metadata": {},
   "outputs": [],
   "source": [
    "#load everything\n",
    "num_ing = 8023\n",
    "recipe_decoder = pickle.load( open('data-cleaned/recipe_decoder.pkl', 'rb') )\n",
    "ingr_decoder   = pickle.load( open('data-cleaned/ingredient_decoder.pkl', 'rb') )\n",
    "tag_decoder    = pickle.load( open('data-cleaned/tag_decoder.pkl', 'rb') )\n",
    "X     = sparse.load_npz(\"data-cleaned/recipes.npz\")\n",
    "Xhat  = sparse.load_npz(\"data-cleaned/recipes_tfidf.npz\")\n",
    "U     = sparse.load_npz(\"data-cleaned/user_train.npz\")\n",
    "Uhat  = sparse.load_npz(\"data-cleaned/user_train_tfidf.npz\")\n",
    "Utest = sparse.load_npz(\"data-cleaned/user_test.npz\")\n",
    "def intersection(lst1, lst2): \n",
    "    return list(set(lst1) & set(lst2)) "
   ]
  },
  {
   "source": [
    "I'll split whole process into 3\n",
    "\n",
    "  1. Dimension Reduction\n",
    "  2. Get nearest options\n",
    "  3. Choose 5 best from that set\n",
    "  4. Scoring\n",
    "\n",
    "Some of these will cover both (3) and (4). We'll use sklearn Pipeline to get things done. Our methods will just take a little tweaking, but we can make them work."
   ],
   "cell_type": "markdown",
   "metadata": {}
  },
  {
   "cell_type": "code",
   "execution_count": 42,
   "metadata": {},
   "outputs": [],
   "source": [
    "def recipe_score(i, js):\n",
    "    score = np.zeros_like(js)\n",
    "    #iterate through all recommendations\n",
    "    for n, j in enumerate(js):\n",
    "        temp = X[i, :-1] + X[j, :-1]\n",
    "        score[n] = np.count_nonzero(temp.data==2) + int(X[i,-1]==X[j,-1])\n",
    "    return score\n",
    "\n",
    "def recommend_scoring(y_true, y_pred):\n",
    "    max_scores = np.zeros_like(y_pred)\n",
    "    #iterate through all data\n",
    "    for i, (yi, y_predi) in enumerate(zip(y_true, y_pred)):\n",
    "        #iterate through each liked recipe to find closest\n",
    "        for l in yi:\n",
    "            if l == -1:\n",
    "                continue\n",
    "            max_scores[i] = np.maximum(max_scores[i], recipe_score(l, y_predi))\n",
    "            \n",
    "    return max_scores.mean(axis=1)\n",
    "\n",
    "scorer = make_scorer(recommend_scoring, greater_is_better=True)"
   ]
  },
  {
   "cell_type": "code",
   "execution_count": 40,
   "metadata": {},
   "outputs": [],
   "source": [
    "class kNN(BaseEstimator):\n",
    "    def __init__(self, n_neighbors=5, metric='minkowski', algorithm='brute'):\n",
    "        self.n_neighbors = n_neighbors+1 #add one to exclude ourself\n",
    "        self.metric      = metric\n",
    "        self.algorithm   = algorithm\n",
    "        self.estimator   = NearestNeighbors(n_neighbors=n_neighbors+1, metric=metric, algorithm = algorithm)\n",
    "\n",
    "    def fit(self, X, y=None):\n",
    "        self.estimator.fit(X)\n",
    "        return self\n",
    "\n",
    "    def predict(self, X):\n",
    "        #find closest users\n",
    "        idxs = self.estimator.kneighbors(X)[1][:,1:]\n",
    "\n",
    "        rec_recipes = np.zeros((X.shape[0], 5), dtype='int')\n",
    "        #iterate through each user's closest users\n",
    "        for i, idx in enumerate(idxs):\n",
    "            #find their liked recipes\n",
    "            close_recipes = U[idx].nonzero()[1]\n",
    "            #and find 5 most common ones to recommend\n",
    "            rec_recipe   = Counter(close_recipes).most_common(5)\n",
    "            rec_recipes[i]   = np.array([k[0] for k in rec_recipe][:5])\n",
    "\n",
    "        return rec_recipes\n",
    "\n",
    "    def score(self, X, y):\n",
    "        return recommend_scoring(self.predict(X), y)"
   ]
  },
  {
   "cell_type": "code",
   "execution_count": 29,
   "metadata": {},
   "outputs": [],
   "source": [
    "user_test = Utest[:,-1].toarray().flatten().astype('int')\n",
    "y = np.zeros((Utest.shape[0], 2), dtype='int')-1\n",
    "for i in range(len(y)):\n",
    "    recipes = Utest[i].nonzero()[1][:-1]\n",
    "    if len(recipes) == 1:\n",
    "        y[i,0] = recipes\n",
    "    elif len(recipes) == 2:\n",
    "        y[i,:] = recipes\n",
    "    else:\n",
    "        raise ValueError(\"Someone reviewed 3 recipes!\")\n",
    "\n",
    "y_blank = np.zeros((U.shape[0], 2))"
   ]
  },
  {
   "cell_type": "code",
   "execution_count": 44,
   "metadata": {},
   "outputs": [
    {
     "output_type": "stream",
     "name": "stderr",
     "text": "\n\n  0%|          | 0/4 [00:00<?, ?it/s]\u001b[A\u001b[A"
    }
   ],
   "source": [
    "pipe = Pipeline([(\"pca\", TruncatedSVD(n_components=10)),\n",
    "                (\"knn\", kNN(n_neighbors=5))])\n",
    "\n",
    "pipe_params = {\"pca__n_components\": [10,20],\n",
    "                \"knn__n_neighbors\": [5, 10]}\n",
    "\n",
    "opt = GridSearch(model=pipe, param_grid=pipe_params)\n",
    "opt.fit(U, y_blank, U[user_test], y)"
   ]
  },
  {
   "cell_type": "code",
   "execution_count": null,
   "metadata": {},
   "outputs": [],
   "source": []
  }
 ]
}