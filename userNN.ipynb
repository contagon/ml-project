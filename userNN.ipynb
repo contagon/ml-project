{
 "cells": [
  {
   "cell_type": "code",
   "execution_count": 7,
   "metadata": {},
   "outputs": [],
   "source": [
    "import numpy as np\n",
    "from sklearn.pipeline import Pipeline\n",
    "from sklearn.decomposition import PCA, TruncatedSVD\n",
    "from sklearn.neighbors import NearestNeighbors\n",
    "from sklearn.model_selection import ShuffleSplit, KFold\n",
    "import matplotlib.pyplot as plt\n",
    "from scipy import sparse\n",
    "from itertools import product\n",
    "from time import time\n",
    "import seaborn\n",
    "%run Helpers.ipynb"
   ]
  },
  {
   "cell_type": "code",
   "execution_count": 9,
   "metadata": {},
   "outputs": [],
   "source": [
    "n_components = [10, 20, 40, 60]\n",
    "data = [U, Uhat]\n",
    "num_user = X.shape[0]\n",
    "metrics = ['cosine', 'minkowski']\n",
    "#also should iterate over number of neighbors used\n",
    "\n",
    "scores = np.zeros((2, 2, 4))\n",
    "times = np.zeros((2, 2, 4))\n",
    "\n",
    "user_test = Utest[:,-1].toarray().flatten().astype('int')\n",
    "user_test_idx = np.arange(0, Utest.shape[0])"
   ]
  },
  {
   "cell_type": "code",
   "execution_count": 14,
   "metadata": {},
   "outputs": [
    {
     "name": "stdout",
     "output_type": "stream",
     "text": [
      "0 0 0 20.0\n",
      "0 0 1 20.0\n",
      "0 0 2 20.0\n",
      "0 0 3 20.0\n",
      "0 1 0 20.0\n",
      "0 1 1 20.0\n",
      "0 1 2 20.0\n",
      "0 1 3 20.0\n"
     ]
    }
   ],
   "source": [
    "for i, j, k in product(range(len(data)), range(len(metrics)), range(len(n_components))):\n",
    "    temp_score = []\n",
    "    \n",
    "    #make pca\n",
    "    pca_data = TruncatedSVD(n_components=n_components[k]).fit_transform(data[i])\n",
    "    \n",
    "    #make and train neighbors\n",
    "    nn  = NearestNeighbors(metric=metrics[j], algorithm='brute').fit(pca_data)\n",
    "    start = time()\n",
    "    neighbors = nn.kneighbors(pca_data[user_test], 5)[1]\n",
    "    times[i,j,k] = time() - start\n",
    "    \n",
    "    #check if we got the recipe they liked\n",
    "    for u, n in zip(user_test_idx, neighbors):\n",
    "        temp_score.append( user_score(u, n) )\n",
    "    scores[i,j,k] = np.array(temp_score).mean()\n",
    "    print(i,j,k, scores[i,j,k])\n",
    "    \n",
    "np.save(\"results/scores_userNN.npy\", scores)\n",
    "np.save(\"results/times_userNN.npy\", times)"
   ]
  },
  {
   "cell_type": "code",
   "execution_count": 12,
   "metadata": {},
   "outputs": [],
   "source": [
    "#make pca\n",
    "pca_data = TruncatedSVD(n_components=60).fit_transform(U)\n",
    "\n",
    "#make and train neighbors\n",
    "nn  = NearestNeighbors().fit(pca_data)\n",
    "start = time()\n",
    "neighbors = nn.kneighbors(pca_data[user_test], 5)[1]\n",
    "times[i,j,k] = time() - start"
   ]
  },
  {
   "cell_type": "code",
   "execution_count": 13,
   "metadata": {},
   "outputs": [
    {
     "data": {
      "text/plain": [
       "(13639, 5)"
      ]
     },
     "execution_count": 13,
     "metadata": {},
     "output_type": "execute_result"
    }
   ],
   "source": [
    "neighbors.shape"
   ]
  },
  {
   "cell_type": "code",
   "execution_count": null,
   "metadata": {},
   "outputs": [],
   "source": [
    "#check if we got the recipe they liked\n",
    "for u, n in zip(user_test_idx, neighbors):\n",
    "    temp_score.append( user_score(u, n) )\n",
    "scores[i,j,k] = np.array(temp_score).mean()\n",
    "print(i,j,k, scores[i,j,k])"
   ]
  },
  {
   "cell_type": "code",
   "execution_count": null,
   "metadata": {},
   "outputs": [],
   "source": [
    "scores = np.load(\"results/scores_recipeNN.npy\")\n",
    "\n",
    "fig,ax = plt.subplots(1, 2, figsize=(12,3))\n",
    "ax = ax.reshape(-1)\n",
    "for i in range(len(data)):\n",
    "    seaborn.heatmap(scores[i], vmin=10.6, vmax=12.4, xticklabels=n_components, yticklabels=metrics, cmap=seaborn.diverging_palette(20, 220, n=200), ax=ax[i])\n",
    "    ax[i].set_ylabel('Metrics')\n",
    "    ax[i].set_xlabel('Number of PCA Components')\n",
    "\n",
    "fig.suptitle('Average Number of Matching Ingredients/Tags')\n",
    "ax[0].set_title('Original')\n",
    "ax[1].set_title('TF-IDF')\n",
    "plt.savefig(\"figs/recipeNN_scores.pdf\", bbox_inches=\"tight\")\n",
    "plt.show()"
   ]
  },
  {
   "cell_type": "code",
   "execution_count": null,
   "metadata": {},
   "outputs": [],
   "source": [
    "times = np.load(\"results/times_recipeNN.npy\")\n",
    "\n",
    "fig,ax = plt.subplots(1, 2, figsize=(12,3))\n",
    "ax = ax.reshape(-1)\n",
    "for i in range(len(data)):\n",
    "    seaborn.heatmap(times[i], vmin=32, vmax=42, xticklabels=n_components, yticklabels=metrics, cmap=seaborn.diverging_palette(20, 220, n=200), ax=ax[i])\n",
    "    ax[i].set_ylabel('Metrics')\n",
    "    ax[i].set_xlabel('Number of PCA Components')\n",
    "\n",
    "fig.suptitle(f'Average Time to find Neighbors for {num_rec//7} pts')\n",
    "ax[0].set_title('Original')\n",
    "ax[1].set_title('TF-IDF')\n",
    "plt.savefig(\"figs/recipeNN_times.pdf\", bbox_inches=\"tight\")\n",
    "plt.show()"
   ]
  },
  {
   "cell_type": "code",
   "execution_count": null,
   "metadata": {},
   "outputs": [],
   "source": []
  }
 ],
 "metadata": {
  "kernelspec": {
   "display_name": "Python 3",
   "language": "python",
   "name": "python3"
  },
  "language_info": {
   "codemirror_mode": {
    "name": "ipython",
    "version": 3
   },
   "file_extension": ".py",
   "mimetype": "text/x-python",
   "name": "python",
   "nbconvert_exporter": "python",
   "pygments_lexer": "ipython3",
   "version": "3.7.4"
  }
 },
 "nbformat": 4,
 "nbformat_minor": 4
}
