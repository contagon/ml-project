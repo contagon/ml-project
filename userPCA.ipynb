{
 "cells": [
  {
   "cell_type": "code",
   "execution_count": 1,
   "metadata": {},
   "outputs": [],
   "source": [
    "import numpy as np\n",
    "from sklearn.pipeline import Pipeline\n",
    "from sklearn.decomposition import PCA, TruncatedSVD\n",
    "from sklearn.neighbors import KNeighborsClassifier\n",
    "from sklearn.model_selection import GridSearchCV\n",
    "import matplotlib.pyplot as plt\n",
    "from scipy import sparse\n",
    "import seaborn as sns"
   ]
  },
  {
   "cell_type": "code",
   "execution_count": 3,
   "metadata": {},
   "outputs": [
    {
     "name": "stdout",
     "output_type": "stream",
     "text": [
      "(698901, 178265)\n"
     ]
    }
   ],
   "source": [
    "X = sparse.load_npz('data-cleaned/user_train_tfidf.npz')\n",
    "print(X.shape)\n",
    "\n",
    "svdhat = TruncatedSVD(n_components=200)\n",
    "Xhat = svdhat.fit_transform(X)"
   ]
  },
  {
   "cell_type": "code",
   "execution_count": 4,
   "metadata": {},
   "outputs": [
    {
     "name": "stdout",
     "output_type": "stream",
     "text": [
      "(698901, 178265)\n"
     ]
    }
   ],
   "source": [
    "X = sparse.load_npz('data-cleaned/user_train.npz')\n",
    "print(X.shape)\n",
    "\n",
    "svd = TruncatedSVD(n_components=200)\n",
    "Xhat = svd.fit_transform(X)"
   ]
  },
  {
   "cell_type": "code",
   "execution_count": 8,
   "metadata": {},
   "outputs": [
    {
     "data": {
      "image/png": "[encoded data removed]",
      "text/plain": [
       "<Figure size 864x216 with 2 Axes>"
      ]
     },
     "metadata": {
      "needs_background": "light"
     },
     "output_type": "display_data"
    }
   ],
   "source": [
    "fig, ax = plt.subplots(1, 2, figsize=(12,3))\n",
    "\n",
    "sns.scatterplot(np.arange(100), sorted(svd.explained_variance_ratio_[:100])[::-1], ax=ax[0])\n",
    "ax[0].set_title(\"Original\")\n",
    "ax[0].set_ylim([0,.06])\n",
    "\n",
    "sns.scatterplot(np.arange(100), svdhat.explained_variance_ratio_[:100], ax=ax[1])\n",
    "ax[1].set_title(\"TF-IDF\")\n",
    "ax[1].set_ylim([0,.01])\n",
    "\n",
    "plt.savefig(\"figs/pca.pdf\", bbox_inches=\"tight\")\n",
    "plt.show()"
   ]
  },
  {
   "cell_type": "code",
   "execution_count": 16,
   "metadata": {},
   "outputs": [
    {
     "data": {
      "text/plain": [
       "0.5972364544293821"
      ]
     },
     "execution_count": 16,
     "metadata": {},
     "output_type": "execute_result"
    }
   ],
   "source": [
    "np.sum(svdhat.explained_variance_ratio_)"
   ]
  },
  {
   "cell_type": "code",
   "execution_count": null,
   "metadata": {},
   "outputs": [],
   "source": []
  }
 ],
 "metadata": {
  "kernelspec": {
   "display_name": "Python 3",
   "language": "python",
   "name": "python3"
  },
  "language_info": {
   "codemirror_mode": {
    "name": "ipython",
    "version": 3
   },
   "file_extension": ".py",
   "mimetype": "text/x-python",
   "name": "python",
   "nbconvert_exporter": "python",
   "pygments_lexer": "ipython3",
   "version": "3.7.4"
  }
 },
 "nbformat": 4,
 "nbformat_minor": 4
}
