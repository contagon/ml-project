{
 "cells": [
  {
   "cell_type": "code",
   "execution_count": 2,
   "metadata": {},
   "outputs": [],
   "source": [
    "import numpy as np\n",
    "from sklearn.pipeline import Pipeline\n",
    "from sklearn.decomposition import PCA, TruncatedSVD\n",
    "from sklearn.neighbors import NearestNeighbors\n",
    "from sklearn.model_selection import ShuffleSplit, KFold\n",
    "import matplotlib.pyplot as plt\n",
    "from scipy import sparse\n",
    "from itertools import product\n",
    "from time import time\n",
    "import seaborn\n",
    "%run Helpers.ipynb"
   ]
  },
  {
   "cell_type": "code",
   "execution_count": 38,
   "metadata": {},
   "outputs": [],
   "source": [
    "user_test = Utest[:,-1].toarray().flatten().astype('int')\n",
    "user_test_idx = np.arange(0, Utest.shape[0])\n",
    "\n",
    "all_users = np.arange(0, U.shape[0])"
   ]
  },
  {
   "cell_type": "code",
   "execution_count": 41,
   "metadata": {},
   "outputs": [
    {
     "name": "stdout",
     "output_type": "stream",
     "text": [
      "Average Score is 9.377241733264901\n"
     ]
    }
   ],
   "source": [
    "scores = []\n",
    "\n",
    "#get 5 most popular recipes\n",
    "recipes = np.array(np.sum(U, axis=0)).flatten()\n",
    "recommended_recipes = np.argpartition(recipes, -5)[-5:]\n",
    "\n",
    "#check if we got the recipe they liked\n",
    "for uidx in user_test_idx:\n",
    "    liked_recipes = Utest[uidx].nonzero()[1][:-1]\n",
    "    scores.append( recommendation_score(liked_recipes, recommended_recipes) )\n",
    "\n",
    "scores = np.array(scores)\n",
    "print(f\"Average Score is {scores.mean()}\")"
   ]
  },
  {
   "cell_type": "code",
   "execution_count": 42,
   "metadata": {},
   "outputs": [
    {
     "name": "stdout",
     "output_type": "stream",
     "text": [
      "[147374 135961 117899 134610  99787]\n"
     ]
    }
   ],
   "source": [
    "print(recommended_recipes)"
   ]
  },
  {
   "cell_type": "code",
   "execution_count": 43,
   "metadata": {},
   "outputs": [
    {
     "name": "stdout",
     "output_type": "stream",
     "text": [
      "['kittencal s italian melt in your mouth meatballs', 'whatever floats your boat  brownies', 'creamy cajun chicken pasta', 'crock pot chicken with black beans   cream cheese', 'to die for crock pot roast']\n"
     ]
    }
   ],
   "source": [
    "print([recipe_decoder[i] for i in recommended_recipes])"
   ]
  },
  {
   "cell_type": "code",
   "execution_count": null,
   "metadata": {},
   "outputs": [],
   "source": []
  }
 ],
 "metadata": {
  "kernelspec": {
   "display_name": "Python 3",
   "language": "python",
   "name": "python3"
  },
  "language_info": {
   "codemirror_mode": {
    "name": "ipython",
    "version": 3
   },
   "file_extension": ".py",
   "mimetype": "text/x-python",
   "name": "python",
   "nbconvert_exporter": "python",
   "pygments_lexer": "ipython3",
   "version": "3.7.4"
  }
 },
 "nbformat": 4,
 "nbformat_minor": 4
}
