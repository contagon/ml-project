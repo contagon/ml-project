{
 "cells": [
  {
   "cell_type": "code",
   "execution_count": 9,
   "metadata": {},
   "outputs": [],
   "source": [
    "import numpy as np\n",
    "from sklearn.pipeline import Pipeline\n",
    "from sklearn.decomposition import PCA, TruncatedSVD, NMF\n",
    "from sklearn.neighbors import NearestNeighbors\n",
    "from sklearn.model_selection import ShuffleSplit, KFold\n",
    "import matplotlib.pyplot as plt\n",
    "from scipy import sparse\n",
    "from itertools import product\n",
    "from time import time\n",
    "import seaborn\n",
    "import pickle\n",
    "from collections import Counter\n",
    "import heapq\n",
    "import pandas as pd"
   ]
  },
  {
   "cell_type": "code",
   "execution_count": 10,
   "metadata": {},
   "outputs": [],
   "source": [
    "#load everything\n",
    "num_ing = 8023\n",
    "num_items = 8576\n",
    "num_rec = 178265\n",
    "recipe_decoder = pickle.load( open('data-cleaned/recipe_decoder.pkl', 'rb') )\n",
    "ingr_decoder   = pickle.load( open('data-cleaned/ingredient_decoder.pkl', 'rb') )\n",
    "tag_decoder    = pickle.load( open('data-cleaned/tag_decoder.pkl', 'rb') )\n",
    "R     = sparse.load_npz(\"data-cleaned/recipes.npz\")\n",
    "Rhat  = sparse.load_npz(\"data-cleaned/recipes_tfidf.npz\")\n",
    "U     = sparse.load_npz(\"data-cleaned/user_train.npz\")\n",
    "Uhat  = sparse.load_npz(\"data-cleaned/user_train_tfidf.npz\")\n",
    "Utest = sparse.load_npz(\"data-cleaned/user_test.npz\")\n",
    "col_sum = np.load(\"data-cleaned/recipe_col_sum.npy\")\n",
    "user_test = Utest[:,-1].toarray().flatten().astype('int')\n",
    "def intersection(lst1, lst2): \n",
    "    return list(set(lst1) & set(lst2)) "
   ]
  },
  {
   "cell_type": "code",
   "execution_count": 21,
   "metadata": {},
   "outputs": [],
   "source": [
    "from sklearn.model_selection import PredefinedSplit, GridSearchCV\n",
    "from sklearn.pipeline import Pipeline\n",
    "import recipeClasses\n",
    "import userClasses\n",
    "import importlib\n",
    "from baseUtils import *"
   ]
  },
  {
   "cell_type": "code",
   "execution_count": 31,
   "metadata": {},
   "outputs": [],
   "source": [
    "#prepare testing data and splitting data\n",
    "user_test = Utest[:,-1].toarray().flatten().astype('int')\n",
    "y = np.zeros((user_test.shape[0], 2), dtype='int')-1\n",
    "for i in range(len(y)):\n",
    "    recipes = Utest[i].nonzero()[1][:-1]\n",
    "    if len(recipes) == 1:\n",
    "        y[i,0] = recipes\n",
    "    elif len(recipes) == 2:\n",
    "        y[i,:] = recipes\n",
    "    else:\n",
    "        raise ValueError(\"Someone reviewed 3 recipes!\")\n",
    "\n",
    "# Urecipe = user_to_recipe(U[user_test], 4)\n",
    "y = y"
   ]
  },
  {
   "cell_type": "code",
   "execution_count": 5,
   "metadata": {},
   "outputs": [],
   "source": [
    "Upca = TruncatedSVD(n_components=10).fit_transform(U)\n",
    "test = Upca[user_test]"
   ]
  },
  {
   "cell_type": "code",
   "execution_count": 42,
   "metadata": {},
   "outputs": [
    {
     "output_type": "execute_result",
     "data": {
      "text/plain": "<module 'userClasses' from '/home/contagon/Documents/ml-project/userClasses.py'>"
     },
     "metadata": {},
     "execution_count": 42
    }
   ],
   "source": [
    "importlib.reload(userClasses)"
   ]
  },
  {
   "cell_type": "code",
   "execution_count": 44,
   "metadata": {},
   "outputs": [
    {
     "output_type": "execute_result",
     "data": {
      "text/plain": "8.006"
     },
     "metadata": {},
     "execution_count": 44
    }
   ],
   "source": [
    "rdr = userClasses.userCluster(n_clusters=100)\n",
    "rdr.fit(Upca)\n",
    "rdr.score(test[0:100], y[0:100])"
   ]
  },
  {
   "cell_type": "code",
   "execution_count": 39,
   "metadata": {},
   "outputs": [
    {
     "output_type": "execute_result",
     "data": {
      "text/plain": "array([  2890, 168844, 109210,  51313,  17076])"
     },
     "metadata": {},
     "execution_count": 39
    }
   ],
   "source": [
    "userClasses.recommend_sum(np.array([]))"
   ]
  },
  {
   "cell_type": "code",
   "execution_count": 9,
   "metadata": {},
   "outputs": [],
   "source": [
    "columns = [\"kNN\", \"NNBall\", \"KMeans\", \"GMM\", \"MinCut\", \"KMeansNN\", \"GMMNN\", \"MinCutNN\", ]\n",
    "rows = [\"PCA\", \"KPCA\", \"NMF\", \"LDA\"]\n",
    "d = pd.DataFrame(tuple(), columns=columns, index=rows)\n",
    "# d.to_pickle(\"results/user_U_sum.pkl\")\n",
    "# d.to_pickle(\"results/user_U_fr.pkl\")\n",
    "# d.to_pickle(\"results/user_U_rf.pkl\")\n",
    "# d.to_pickle(\"results/user_Uhat_sum.pkl\")\n",
    "# d.to_pickle(\"results/user_Uhat_fr.pkl\")\n",
    "# d.to_pickle(\"results/user_Uhat_rf.pkl\")\n",
    "d.to_pickle(\"results/recipe_R_int.pkl\")\n",
    "d.to_pickle(\"results/recipe_R_com.pkl\")\n",
    "d.to_pickle(\"results/recipe_Rhat_int.pkl\")\n",
    "d.to_pickle(\"results/recipe_Rhat_com.pkl\")"
   ]
  },
  {
   "cell_type": "code",
   "execution_count": null,
   "metadata": {},
   "outputs": [],
   "source": [
    "columns = [1, 2, 3, 4, 5]\n",
    "rows = [\"PCA\", \"KPCA\", \"NMF\", \"LDA\"]\n",
    "d = pd.DataFrame(tuple(), columns=columns, index=rows)\n",
    "d.to_pickle(\"results/recipe_R_int.pkl\")\n",
    "d.to_pickle(\"results/recipe_R_com.pkl\")\n",
    "d.to_pickle(\"results/recipe_Rhat_int.pkl\")\n",
    "d.to_pickle(\"results/recipe_Rhat_com.pkl\")"
   ]
  },
  {
   "cell_type": "code",
   "execution_count": 65,
   "metadata": {},
   "outputs": [
    {
     "output_type": "execute_result",
     "data": {
      "text/plain": "       kNN  NNBall  KMeans   GMM  MinCut  KMeansNN  GMMNN  MinCutNN  DBSCAN  \\\nPCA   True    True    True  True   False      True   True     False   False   \nKPCA  True    True   False  True   False     False  False     False   False   \nNMF   True    True    True  True   False     False  False     False   False   \nLDA   True    True    True  True   False     False  False     False   False   \n\n      DBSCANNN  \nPCA      False  \nKPCA     False  \nNMF      False  \nLDA      False  ",
      "text/html": "<div>\n<style scoped>\n    .dataframe tbody tr th:only-of-type {\n        vertical-align: middle;\n    }\n\n    .dataframe tbody tr th {\n        vertical-align: top;\n    }\n\n    .dataframe thead th {\n        text-align: right;\n    }\n</style>\n<table border=\"1\" class=\"dataframe\">\n  <thead>\n    <tr style=\"text-align: right;\">\n      <th></th>\n      <th>kNN</th>\n      <th>NNBall</th>\n      <th>KMeans</th>\n      <th>GMM</th>\n      <th>MinCut</th>\n      <th>KMeansNN</th>\n      <th>GMMNN</th>\n      <th>MinCutNN</th>\n      <th>DBSCAN</th>\n      <th>DBSCANNN</th>\n    </tr>\n  </thead>\n  <tbody>\n    <tr>\n      <th>PCA</th>\n      <td>True</td>\n      <td>True</td>\n      <td>True</td>\n      <td>True</td>\n      <td>False</td>\n      <td>True</td>\n      <td>True</td>\n      <td>False</td>\n      <td>False</td>\n      <td>False</td>\n    </tr>\n    <tr>\n      <th>KPCA</th>\n      <td>True</td>\n      <td>True</td>\n      <td>False</td>\n      <td>True</td>\n      <td>False</td>\n      <td>False</td>\n      <td>False</td>\n      <td>False</td>\n      <td>False</td>\n      <td>False</td>\n    </tr>\n    <tr>\n      <th>NMF</th>\n      <td>True</td>\n      <td>True</td>\n      <td>True</td>\n      <td>True</td>\n      <td>False</td>\n      <td>False</td>\n      <td>False</td>\n      <td>False</td>\n      <td>False</td>\n      <td>False</td>\n    </tr>\n    <tr>\n      <th>LDA</th>\n      <td>True</td>\n      <td>True</td>\n      <td>True</td>\n      <td>True</td>\n      <td>False</td>\n      <td>False</td>\n      <td>False</td>\n      <td>False</td>\n      <td>False</td>\n      <td>False</td>\n    </tr>\n  </tbody>\n</table>\n</div>"
     },
     "metadata": {},
     "execution_count": 65
    }
   ],
   "source": [
    "def addcol(filename): \n",
    "    df = pd.read_pickle(filename) \n",
    "    for rating in [3,4,5]:\n",
    "        df[\"MkNN_\"+rating] = np.nan \n",
    "    df.to_pickle(filename) "
   ]
  },
  {
   "cell_type": "code",
   "execution_count": 47,
   "metadata": {},
   "outputs": [
    {
     "output_type": "execute_result",
     "data": {
      "text/plain": "array([ 150,  159,  800, 1124, 1645, 1833, 1881, 2206, 5010, 5574, 6276,\n       7927, 8156, 8162, 8178, 8188, 8199, 8220, 8307, 8310, 8314, 8320,\n       8328, 8409, 8410, 8423], dtype=int32)"
     },
     "metadata": {},
     "execution_count": 47
    }
   ],
   "source": [
    "i=5\n",
    "j=10\n",
    "ii = R[i,:-1].nonzero()[1]\n",
    "ii"
   ]
  },
  {
   "cell_type": "code",
   "execution_count": 48,
   "metadata": {},
   "outputs": [
    {
     "output_type": "execute_result",
     "data": {
      "text/plain": "array([ 298,  339, 1223, 1372, 2728, 2854, 3184, 4836, 5006, 5219, 5407,\n       5974, 6906, 6926, 7799, 8027, 8044, 8156, 8165, 8178, 8199, 8320,\n       8368, 8384, 8386, 8423, 8456, 8471, 8497, 8518, 8523, 8539],\n      dtype=int32)"
     },
     "metadata": {},
     "execution_count": 48
    }
   ],
   "source": [
    "jj = R[j,:-1].nonzero()[1]\n",
    "jj"
   ]
  },
  {
   "cell_type": "code",
   "execution_count": 51,
   "metadata": {},
   "outputs": [
    {
     "output_type": "stream",
     "name": "stdout",
     "text": "2.0 2.0\n"
    }
   ],
   "source": [
    "print(R[i,-1], R[j,-1])"
   ]
  },
  {
   "cell_type": "code",
   "execution_count": 52,
   "metadata": {},
   "outputs": [
    {
     "output_type": "execute_result",
     "data": {
      "text/plain": "[8320, 8423, 8199, 8178, 8156]"
     },
     "metadata": {},
     "execution_count": 52
    }
   ],
   "source": [
    "intersection(ii, jj)"
   ]
  },
  {
   "cell_type": "code",
   "execution_count": 53,
   "metadata": {},
   "outputs": [
    {
     "output_type": "execute_result",
     "data": {
      "text/plain": "array([6])"
     },
     "metadata": {},
     "execution_count": 53
    }
   ],
   "source": [
    "recipe_score_int(i, np.array([j]))"
   ]
  },
  {
   "cell_type": "code",
   "execution_count": 54,
   "metadata": {},
   "outputs": [
    {
     "output_type": "execute_result",
     "data": {
      "text/plain": "array([-48])"
     },
     "metadata": {},
     "execution_count": 54
    }
   ],
   "source": [
    "recipe_score_com(i, np.array([j]))"
   ]
  },
  {
   "cell_type": "code",
   "execution_count": 55,
   "metadata": {},
   "outputs": [
    {
     "output_type": "execute_result",
     "data": {
      "text/plain": "48"
     },
     "metadata": {},
     "execution_count": 55
    }
   ],
   "source": [
    "len(ii) + len(jj) - 2*len(intersection(ii,jj)) + int(R[i,-1]!=R[j,-1])"
   ]
  },
  {
   "cell_type": "code",
   "execution_count": null,
   "metadata": {},
   "outputs": [],
   "source": []
  }
 ],
 "metadata": {
  "kernelspec": {
   "display_name": "Python 3",
   "language": "python",
   "name": "python3"
  },
  "language_info": {
   "codemirror_mode": {
    "name": "ipython",
    "version": 3
   },
   "file_extension": ".py",
   "mimetype": "text/x-python",
   "name": "python",
   "nbconvert_exporter": "python",
   "pygments_lexer": "ipython3",
   "version": "3.7.6-final"
  }
 },
 "nbformat": 4,
 "nbformat_minor": 4
}