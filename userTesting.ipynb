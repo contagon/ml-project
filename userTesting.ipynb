{
 "cells": [
  {
   "cell_type": "code",
   "execution_count": 1,
   "metadata": {},
   "outputs": [],
   "source": [
    "import numpy as np\n",
    "from sklearn.pipeline import Pipeline\n",
    "from sklearn.decomposition import PCA, TruncatedSVD\n",
    "from sklearn.neighbors import NearestNeighbors\n",
    "from sklearn.model_selection import ShuffleSplit, KFold\n",
    "import matplotlib.pyplot as plt\n",
    "from scipy import sparse\n",
    "from itertools import product\n",
    "from time import time\n",
    "import seaborn\n",
    "import pickle\n",
    "from collections import Counter\n",
    "import heapq\n",
    "import pandas as pd"
   ]
  },
  {
   "cell_type": "code",
   "execution_count": 2,
   "metadata": {},
   "outputs": [],
   "source": [
    "#load everything\n",
    "num_ing = 8023\n",
    "num_items = 8576\n",
    "num_rec = 178265\n",
    "recipe_decoder = pickle.load( open('data-cleaned/recipe_decoder.pkl', 'rb') )\n",
    "ingr_decoder   = pickle.load( open('data-cleaned/ingredient_decoder.pkl', 'rb') )\n",
    "tag_decoder    = pickle.load( open('data-cleaned/tag_decoder.pkl', 'rb') )\n",
    "R     = sparse.load_npz(\"data-cleaned/recipes.npz\")\n",
    "Rhat  = sparse.load_npz(\"data-cleaned/recipes_tfidf.npz\")\n",
    "U     = sparse.load_npz(\"data-cleaned/user_train.npz\")\n",
    "Uhat  = sparse.load_npz(\"data-cleaned/user_train_tfidf.npz\")\n",
    "Utest = sparse.load_npz(\"data-cleaned/user_test.npz\")\n",
    "col_sum = np.load(\"data-cleaned/recipe_col_sum.npy\")\n",
    "def intersection(lst1, lst2): \n",
    "    return list(set(lst1) & set(lst2)) "
   ]
  },
  {
   "cell_type": "code",
   "execution_count": 14,
   "metadata": {},
   "outputs": [],
   "source": [
    "from sklearn.model_selection import PredefinedSplit, GridSearchCV\n",
    "from sklearn.pipeline import Pipeline\n",
    "import recipeClasses\n",
    "from userClasses import *\n",
    "import importlib"
   ]
  },
  {
   "cell_type": "code",
   "execution_count": 4,
   "metadata": {},
   "outputs": [],
   "source": [
    "#prepare testing data and splitting data\n",
    "user_test = Utest[:,-1].toarray().flatten().astype('int')\n",
    "y = np.zeros((user_test.shape[0], 2), dtype='int')-1\n",
    "for i in range(len(y)):\n",
    "    recipes = Utest[i].nonzero()[1][:-1]\n",
    "    if len(recipes) == 1:\n",
    "        y[i,0] = recipes\n",
    "    elif len(recipes) == 2:\n",
    "        y[i,:] = recipes\n",
    "    else:\n",
    "        raise ValueError(\"Someone reviewed 3 recipes!\")\n",
    "\n",
    "Urecipe = user_to_recipe(U[user_test], 4)\n",
    "y = y"
   ]
  },
  {
   "cell_type": "code",
   "execution_count": 5,
   "metadata": {},
   "outputs": [],
   "source": [
    "pca = TruncatedSVD(n_components=10)\n",
    "Rpca = pca.fit_transform(R)"
   ]
  },
  {
   "cell_type": "code",
   "execution_count": 24,
   "metadata": {},
   "outputs": [
    {
     "output_type": "execute_result",
     "data": {
      "text/plain": "<module 'recipeClasses' from '/home/contagon/Documents/ml-project/recipeClasses.py'>"
     },
     "metadata": {},
     "execution_count": 24
    }
   ],
   "source": [
    "importlib.reload(recipeClasses)"
   ]
  },
  {
   "cell_type": "code",
   "execution_count": null,
   "metadata": {},
   "outputs": [],
   "source": [
    "columns = [\"kNN\", \"NNBall\", \"KMeans\", \"GMM\", \"MinCut\", \"KMeansNN\", \"GMMNN\", \"MinCutNN\", ]\n",
    "rows = [\"PCA\", \"KPCA\", \"NMF\", \"LDA\"]\n",
    "d = pd.DataFrame(tuple(), columns=columns, index=rows)\n",
    "# d.to_pickle(\"results/user_U_sum.pkl\")\n",
    "# d.to_pickle(\"results/user_U_fr.pkl\")\n",
    "# d.to_pickle(\"results/user_U_rf.pkl\")\n",
    "# d.to_pickle(\"results/user_Uhat_sum.pkl\")\n",
    "# d.to_pickle(\"results/user_Uhat_fr.pkl\")\n",
    "# d.to_pickle(\"results/user_Uhat_rf.pkl\")\n",
    "d.to_pickle(\"results/recipe_R_int.pkl\")\n",
    "d.to_pickle(\"results/recipe_R_com.pkl\")\n",
    "d.to_pickle(\"results/recipe_Rhat_int.pkl\")\n",
    "d.to_pickle(\"results/recipe_Rhat_com.pkl\")"
   ]
  },
  {
   "cell_type": "code",
   "execution_count": null,
   "metadata": {},
   "outputs": [],
   "source": [
    "columns = [1, 2, 3, 4, 5]\n",
    "rows = [\"PCA\", \"KPCA\", \"NMF\", \"LDA\"]\n",
    "d = pd.DataFrame(tuple(), columns=columns, index=rows)\n",
    "d.to_pickle(\"results/recipe_R_int.pkl\")\n",
    "d.to_pickle(\"results/recipe_R_com.pkl\")\n",
    "d.to_pickle(\"results/recipe_Rhat_int.pkl\")\n",
    "d.to_pickle(\"results/recipe_Rhat_com.pkl\")"
   ]
  },
  {
   "cell_type": "code",
   "execution_count": 30,
   "metadata": {},
   "outputs": [],
   "source": [
    "params = {\"n_components\": 10}"
   ]
  },
  {
   "cell_type": "code",
   "execution_count": 32,
   "metadata": {},
   "outputs": [
    {
     "output_type": "execute_result",
     "data": {
      "text/plain": "PCA(copy=True, iterated_power='auto', n_components=10, random_state=None,\n    svd_solver='auto', tol=0.0, whiten=False)"
     },
     "metadata": {},
     "execution_count": 32
    }
   ],
   "source": [
    "pca = PCA()\n",
    "pca.set_params(**params)"
   ]
  },
  {
   "cell_type": "code",
   "execution_count": null,
   "metadata": {},
   "outputs": [],
   "source": []
  }
 ],
 "metadata": {
  "kernelspec": {
   "display_name": "Python 3",
   "language": "python",
   "name": "python3"
  },
  "language_info": {
   "codemirror_mode": {
    "name": "ipython",
    "version": 3
   },
   "file_extension": ".py",
   "mimetype": "text/x-python",
   "name": "python",
   "nbconvert_exporter": "python",
   "pygments_lexer": "ipython3",
   "version": "3.7.6-final"
  }
 },
 "nbformat": 4,
 "nbformat_minor": 4
}