{
 "cells": [
  {
   "cell_type": "code",
   "execution_count": 1,
   "metadata": {},
   "outputs": [],
   "source": [
    "import numpy as np\n",
    "from sklearn.pipeline import Pipeline\n",
    "from sklearn.decomposition import PCA, TruncatedSVD\n",
    "from sklearn.neighbors import NearestNeighbors\n",
    "from sklearn.model_selection import ShuffleSplit, KFold\n",
    "import matplotlib.pyplot as plt\n",
    "from scipy import sparse\n",
    "from itertools import product\n",
    "from time import time\n",
    "import seaborn\n",
    "import pickle\n",
    "from collections import Counter\n",
    "import heapq"
   ]
  },
  {
   "cell_type": "code",
   "execution_count": 2,
   "metadata": {},
   "outputs": [],
   "source": [
    "#load everything\n",
    "num_ing = 8023\n",
    "num_items = 8576\n",
    "num_rec = 178265\n",
    "recipe_decoder = pickle.load( open('data-cleaned/recipe_decoder.pkl', 'rb') )\n",
    "ingr_decoder   = pickle.load( open('data-cleaned/ingredient_decoder.pkl', 'rb') )\n",
    "tag_decoder    = pickle.load( open('data-cleaned/tag_decoder.pkl', 'rb') )\n",
    "R     = sparse.load_npz(\"data-cleaned/recipes.npz\")\n",
    "Rhat  = sparse.load_npz(\"data-cleaned/recipes_tfidf.npz\")\n",
    "U     = sparse.load_npz(\"data-cleaned/user_train.npz\")\n",
    "Uhat  = sparse.load_npz(\"data-cleaned/user_train_tfidf.npz\")\n",
    "Utest = sparse.load_npz(\"data-cleaned/user_test.npz\")\n",
    "col_sum = np.load(\"data-cleaned/recipe_col_sum.npy\")\n",
    "def intersection(lst1, lst2): \n",
    "    return list(set(lst1) & set(lst2)) "
   ]
  },
  {
   "cell_type": "code",
   "execution_count": 3,
   "metadata": {},
   "outputs": [],
   "source": [
    "from sklearn.model_selection import PredefinedSplit, GridSearchCV\n",
    "from sklearn.pipeline import Pipeline\n",
    "from recipeClasses import *\n",
    "from userClasses import *"
   ]
  },
  {
   "cell_type": "code",
   "execution_count": 4,
   "metadata": {},
   "outputs": [],
   "source": [
    "#prepare testing data and splitting data\n",
    "user_test = Utest[:,-1].toarray().flatten().astype('int')\n",
    "y = np.zeros((user_test.shape[0], 2), dtype='int')-1\n",
    "for i in range(len(y)):\n",
    "    recipes = Utest[i].nonzero()[1][:-1]\n",
    "    if len(recipes) == 1:\n",
    "        y[i,0] = recipes\n",
    "    elif len(recipes) == 2:\n",
    "        y[i,:] = recipes\n",
    "    else:\n",
    "        raise ValueError(\"Someone reviewed 3 recipes!\")\n",
    "\n",
    "Urecipe = user_to_recipe(U[user_test][:100], 4)\n",
    "y = y[:100]"
   ]
  },
  {
   "cell_type": "code",
   "execution_count": 7,
   "metadata": {},
   "outputs": [
    {
     "data": {
      "text/plain": "12.086000000000002"
     },
     "execution_count": 7,
     "metadata": {},
     "output_type": "execute_result"
    }
   ],
   "source": [
    "pipe = Pipeline([(\"dr\", TruncatedSVD(n_components=10)),\n",
    "                    (\"rdr\", recipeKNN())])\n",
    "\n",
    "pipe.fit(R)\n",
    "pipe.score(Urecipe, y)"
   ]
  },
  {
   "cell_type": "code",
   "execution_count": 10,
   "metadata": {},
   "outputs": [
    {
     "data": {
      "text/plain": "(array([ 53205, 107335,  79548, 177124, 157501]), array([177317,     -1]))"
     },
     "execution_count": 10,
     "metadata": {},
     "output_type": "execute_result"
    }
   ],
   "source": [
    "pipe.predict(Urecipe)[1], y[1]"
   ]
  },
  {
   "cell_type": "code",
   "execution_count": 6,
   "metadata": {},
   "outputs": [
    {
     "data": {
      "text/plain": "7.741999999999999"
     },
     "execution_count": 6,
     "metadata": {},
     "output_type": "execute_result"
    }
   ],
   "source": [
    "pipe = Pipeline([(\"dr\", TruncatedSVD(n_components=10)),\n",
    "                    (\"rdr\", userKNN())])\n",
    "\n",
    "pipe.fit(U)\n",
    "pipe.score(U[user_test][:100], y)"
   ]
  },
  {
   "cell_type": "code",
   "execution_count": null,
   "metadata": {},
   "outputs": [],
   "source": []
  }
 ],
 "metadata": {
  "kernelspec": {
   "display_name": "Python 3",
   "language": "python",
   "name": "python3"
  },
  "language_info": {
   "codemirror_mode": {
    "name": "ipython",
    "version": 3
   },
   "file_extension": ".py",
   "mimetype": "text/x-python",
   "name": "python",
   "nbconvert_exporter": "python",
   "pygments_lexer": "ipython3",
   "version": "3.7.4-final"
  }
 },
 "nbformat": 4,
 "nbformat_minor": 4
}